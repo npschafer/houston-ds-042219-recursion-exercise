{
 "cells": [
  {
   "cell_type": "markdown",
   "metadata": {},
   "source": [
    "# Coding Challenge: Recursion\n",
    "\n",
    "1) construct a recurssive function to calculate powers of 3\n",
    "e.g. 3^4 = 81\n",
    "\n",
    "\n"
   ]
  },
  {
   "cell_type": "code",
   "execution_count": 1,
   "metadata": {
    "collapsed": true
   },
   "outputs": [],
   "source": [
    "def power_3_rec(power):\n",
    "    if power == 0:\n",
    "        return 1\n",
    "    return 3*power_3_rec(power-1)"
   ]
  },
  {
   "cell_type": "code",
   "execution_count": 2,
   "metadata": {},
   "outputs": [
    {
     "data": {
      "text/plain": [
       "81"
      ]
     },
     "execution_count": 2,
     "metadata": {},
     "output_type": "execute_result"
    }
   ],
   "source": [
    "power_3_rec(4)"
   ]
  },
  {
   "cell_type": "markdown",
   "metadata": {},
   "source": [
    "2) [optional] create a recurssive function - the egg dropping problem [very hard!!] - no need to finish just start a skeleton\n",
    "\n",
    "### Problem : Suppose that we wish to know which stories in a 36-story building are safe to drop eggs from, and which will cause the eggs to break on landing. \n",
    "\n",
    "We make a few assumptions:\n",
    "- An egg that survives a fall can be used again.\n",
    "- A broken egg must be discarded.\n",
    "- The effect of a fall is the same for all eggs.\n",
    "- If an egg breaks when dropped, then it would break if dropped from a higher floor.\n",
    "- If an egg survives a fall then it would survive a shorter fall."
   ]
  },
  {
   "cell_type": "code",
   "execution_count": 5,
   "metadata": {
    "collapsed": true
   },
   "outputs": [],
   "source": [
    "def egg_drop(eggs, floors):\n",
    "    minimum_worst_case_number_of_trials = 0\n",
    "    # No floors, no trials required\n",
    "    if floors == 0:\n",
    "        minimum_worst_case_number_of_trials += 0\n",
    "        return minimum_worst_case_number_of_trials\n",
    "    \n",
    "    # One floor, just one trial required\n",
    "    if floors == 1:\n",
    "        minimum_worst_case_number_of_trials += 1\n",
    "        return minimum_worst_case_number_of_trials\n",
    "    \n",
    "    # If you only have one egg, you just need to go through all of the floors\n",
    "    if eggs == 1:\n",
    "        minimum_worst_case_number_of_trials += floors\n",
    "        return minimum_worst_case_number_of_trials\n",
    "    \n",
    "    # For each floor that we could test, we want to find the best floor to test.\n",
    "    # But for each floor that we do decide to test, we need to assume that the floor\n",
    "    # where the egg breaks is the worst possible case for this choice of floor to test.\n",
    "    # We are therefore looking for the floor that has the best worst case (the minimum maximum number of trials).\n",
    "    minimum_worst_case_number_of_trials = floors+1 # Initialization; never have to try more than the number of floors\n",
    "    for i_floor in range(1, floors+1):\n",
    "        # When you test this floor, the egg will either break or not\n",
    "        # If the egg breaks, you have to repeat the test with one fewer eggs on i_floor-1 floors\n",
    "        # If the egg does not break, you have to repeat the test with the same number of eggs and i_floor fewer floors\n",
    "        # We can't make any assumptions about what floor it will break on, so we have to take the worst case\n",
    "        # (maximum number of trials)\n",
    "        trials_required = 1+max(egg_drop(eggs-1, i_floor-1), egg_drop(eggs, floors-i_floor))\n",
    "        \n",
    "        if trials_required < minimum_worst_case_number_of_trials:\n",
    "            minimum_worst_case_number_of_trials = trials_required\n",
    "            \n",
    "    return minimum_worst_case_number_of_trials"
   ]
  },
  {
   "cell_type": "code",
   "execution_count": 10,
   "metadata": {},
   "outputs": [
    {
     "data": {
      "text/plain": [
       "4"
      ]
     },
     "execution_count": 10,
     "metadata": {},
     "output_type": "execute_result"
    }
   ],
   "source": [
    "egg_drop(10, 10)"
   ]
  },
  {
   "cell_type": "code",
   "execution_count": 26,
   "metadata": {},
   "outputs": [],
   "source": [
    "import numpy as np\n",
    "\n",
    "max_num_eggs = 15\n",
    "max_num_floors = 15\n",
    "trials_matrix = np.zeros((max_num_eggs,max_num_floors))\n",
    "for i in range(max_num_eggs):\n",
    "    for j in range(max_num_floors):\n",
    "        trials_matrix[i][j] = egg_drop(i+1, j+1)"
   ]
  },
  {
   "cell_type": "code",
   "execution_count": 27,
   "metadata": {
    "collapsed": true
   },
   "outputs": [],
   "source": [
    "%matplotlib inline"
   ]
  },
  {
   "cell_type": "code",
   "execution_count": 28,
   "metadata": {},
   "outputs": [
    {
     "data": {
      "image/png": "[encoded data removed]",
      "text/plain": [
       "<matplotlib.figure.Figure at 0x1a14580b00>"
      ]
     },
     "metadata": {},
     "output_type": "display_data"
    }
   ],
   "source": [
    "import seaborn as sns\n",
    "ax = sns.heatmap(trials_matrix)"
   ]
  },
  {
   "cell_type": "code",
   "execution_count": null,
   "metadata": {
    "collapsed": true
   },
   "outputs": [],
   "source": []
  }
 ],
 "metadata": {
  "kernelspec": {
   "display_name": "Python 3",
   "language": "python",
   "name": "python3"
  },
  "language_info": {
   "codemirror_mode": {
    "name": "ipython",
    "version": 3
   },
   "file_extension": ".py",
   "mimetype": "text/x-python",
   "name": "python",
   "nbconvert_exporter": "python",
   "pygments_lexer": "ipython3",
   "version": "3.6.8"
  }
 },
 "nbformat": 4,
 "nbformat_minor": 2
}
